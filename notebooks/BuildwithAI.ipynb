{
  "nbformat": 4,
  "nbformat_minor": 0,
  "metadata": {
    "kernelspec": {
      "display_name": "Python 3",
      "language": "python",
      "name": "python3"
    },
    "language_info": {
      "codemirror_mode": {
        "name": "ipython",
        "version": 3
      },
      "file_extension": ".py",
      "mimetype": "text/x-python",
      "name": "python",
      "nbconvert_exporter": "python",
      "pygments_lexer": "ipython3",
      "version": "3.7.3"
    },
    "colab": {
      "name": "BuildwithAI.ipynb",
      "provenance": [],
      "collapsed_sections": []
    }
  },
  "cells": [
    {
      "cell_type": "code",
      "metadata": {
        "id": "jFzeYLQeIQxK",
        "colab_type": "code",
        "colab": {
          "base_uri": "https://localhost:8080/",
          "height": 34
        },
        "outputId": "c2ef949a-3b22-4d41-cc2f-169a4b2a0652"
      },
      "source": [
        "from google.colab import drive\n",
        "drive.mount('/content/drive')"
      ],
      "execution_count": null,
      "outputs": [
        {
          "output_type": "stream",
          "text": [
            "Drive already mounted at /content/drive; to attempt to forcibly remount, call drive.mount(\"/content/drive\", force_remount=True).\n"
          ],
          "name": "stdout"
        }
      ]
    },
    {
      "cell_type": "code",
      "metadata": {
        "id": "dHQ1KYOpDbsC",
        "colab_type": "code",
        "colab": {}
      },
      "source": [
        "import pandas as pd\n",
        "import numpy as np\n",
        "import matplotlib.pyplot as plt\n",
        "import seaborn as sns\n",
        "import os\n",
        "from datetime import datetime\n",
        "from datetime import timedelta\n",
        "from statsmodels.tsa.vector_ar.var_model import VAR\n",
        "import math\n",
        "from sklearn.metrics import mean_squared_error\n",
        "from sklearn.metrics import r2_score\n",
        "import pickle"
      ],
      "execution_count": null,
      "outputs": []
    },
    {
      "cell_type": "markdown",
      "metadata": {
        "id": "Du8bQMNkIQxO",
        "colab_type": "text"
      },
      "source": [
        "# Aggregating all the files to create a final dataset"
      ]
    },
    {
      "cell_type": "code",
      "metadata": {
        "id": "NXKmS9VKIQxP",
        "colab_type": "code",
        "colab": {}
      },
      "source": [
        "# data=pd.concat([pd.read_csv(filename)\n",
        "#            for filename in os.listdir()\n",
        "#            if '.csv' in filename])\n",
        "# data.head()\n",
        "data = pd.read_csv('/content/drive/My Drive/combined_dataset.csv')\n",
        "population = pd.read_csv('/content/drive/My Drive/Population_state_2.csv')\n",
        "data=data[data['Lat'].notna()]"
      ],
      "execution_count": null,
      "outputs": []
    },
    {
      "cell_type": "markdown",
      "metadata": {
        "id": "fH7dD8jUIQxT",
        "colab_type": "text"
      },
      "source": [
        "#### 1)Dropping rows that have lat and long =NaN(as they correspond to the cases in ships)\n",
        "#### 2)replace Nan in recovered,active,mortality rate,Hospitalization Rate, people Hospitalized with \"0\"\n",
        "#### 3) changing data type of last_update to date"
      ]
    },
    {
      "cell_type": "code",
      "metadata": {
        "id": "pxbGecTQIQxT",
        "colab_type": "code",
        "colab": {}
      },
      "source": [
        "def preprocess(data):\n",
        "    values={'Recovered':0,'Active':0,'Mortality_Rate':0,'People_Hospitalized':0,'Hospitalization_Rate':0}\n",
        "    data.fillna(value=values,inplace=True)\n",
        "    data['Last_Update'].fillna('2020-07-22 04:34:54',inplace=True)\n",
        "    data['time'] = pd.to_datetime(data['Last_Update'])\n",
        "    data['dates'] = data['time'].dt.date\n",
        "    data['Recovered'] = data['Recovered'].astype('int64')\n",
        "    data['Active'] = data['Active'].astype('int64')\n",
        "    data.drop(['FIPS','UID','Country_Region','Unnamed: 0','Lat','Long_','ISO3','Last_Update','time'],axis=1,inplace=True)\n",
        "    data.rename(columns={'Province_State':'State'},inplace=True)\n",
        "    print(\"The Data is Collected from {} to {}\".format(data['dates'].min(),data['dates'].max()))\n",
        "    return data"
      ],
      "execution_count": null,
      "outputs": []
    },
    {
      "cell_type": "code",
      "metadata": {
        "id": "zMwIAxYOEnVm",
        "colab_type": "code",
        "colab": {}
      },
      "source": [
        "# data = preprocess(data)\n",
        "# #check for stationarity\n",
        "# final_data = data.drop(['State','dates'],axis=1)\n",
        "# final_data.index = data.dates\n",
        "# final_data.head()\n",
        "# #check for stationarity\n",
        "# from statsmodels.tsa.vector_ar.vecm import coint_johansen\n",
        "# coint_johansen(final_data,-1,1).eig\n",
        "# #Since all the values are not zero, there exits an cointegration between the variables."
      ],
      "execution_count": null,
      "outputs": []
    },
    {
      "cell_type": "markdown",
      "metadata": {
        "id": "jp7IjRsWIQxW",
        "colab_type": "text"
      },
      "source": [
        "#### FIPS is NaN for US VIRGIN ISLAND"
      ]
    },
    {
      "cell_type": "markdown",
      "metadata": {
        "id": "XNHzG0JIIQxX",
        "colab_type": "text"
      },
      "source": [
        "#### Reading the Population Data"
      ]
    },
    {
      "cell_type": "code",
      "metadata": {
        "id": "iPdJsCV_IQxX",
        "colab_type": "code",
        "colab": {}
      },
      "source": [
        "def clean_population(population):\n",
        "    print(\"Total US population for the Year 2019 = \",population['Population'][0])\n",
        "    #drop the first row\n",
        "    population = population[population['State']!='United States']\n",
        "    population.loc[53, \"State\"] = \"Virgin Islands\"\n",
        "    return population"
      ],
      "execution_count": null,
      "outputs": []
    },
    {
      "cell_type": "code",
      "metadata": {
        "id": "P-LJGPJhIQxa",
        "colab_type": "code",
        "colab": {}
      },
      "source": [
        "def get_state_data(data,state,population_dataset):\n",
        "    state_data = data[data['State']==str(state)]\n",
        "    final_state_data = state_data.join(population_dataset.set_index('State'),on='State')\n",
        "    final_state_data.drop(\"Unnamed: 0\", axis=1, inplace=True)\n",
        "    final_state_data['population_affected'] = round(final_state_data['Confirmed']/final_state_data['Population'],4)\n",
        "    final_state_data['Suscpetible'] = final_state_data['Population']-final_state_data['Confirmed']\n",
        "    final_data = final_state_data.drop(['State','dates','Population'],axis=1)\n",
        "    print(\"The population of the State is : \",final_state_data['Population'].iloc[0])\n",
        "    final_data.index =final_state_data.dates\n",
        "    return final_data"
      ],
      "execution_count": null,
      "outputs": []
    },
    {
      "cell_type": "code",
      "metadata": {
        "id": "YAUVZ2hEIQxh",
        "colab_type": "code",
        "colab": {}
      },
      "source": [
        "def conf_interval(pred,column):\n",
        "    lower = pred['Confirmed'].iloc[-1]-1.96*pred['Confirmed'].std()\n",
        "    upper = pred['Confirmed'].iloc[-1]+1.96*pred['Confirmed'].std()\n",
        "    return lower,upper"
      ],
      "execution_count": null,
      "outputs": []
    },
    {
      "cell_type": "code",
      "metadata": {
        "id": "io8h5LEdJtJa",
        "colab_type": "code",
        "colab": {}
      },
      "source": [
        "data = preprocess(data)\n",
        "population = clean_population(population)\n",
        "def prediction(data,state, population, date):\n",
        "  state_data = get_state_data(data,state,population)\n",
        "  # Removing constant columns\n",
        "  state_data = state_data.loc[:, (state_data != state_data.iloc[0]).any()]\n",
        "  last_date = state_data.index.max()\n",
        "  date_entered=date\n",
        "  user_date=datetime.date(datetime.strptime(date_entered, \"%Y/%m/%d\"))\n",
        "  steps=(user_date-last_date).days\n",
        "  cols =state_data.columns\n",
        "  model = VAR(endog=state_data)\n",
        "  model_fit = model.fit()\n",
        "  saved_model = pickle.dumps(model_fit)\n",
        "  model2 = pickle.loads(saved_model)\n",
        "  datelist = pd.date_range(datetime(2020,7,23), periods=steps).tolist()\n",
        "  prediction = model2.forecast(model_fit.y, steps=steps)\n",
        "  pred = pd.DataFrame(index=datelist,columns=cols)\n",
        "  for j in range(len(pred.columns.tolist())):\n",
        "    for i in range(0, len(prediction)):\n",
        "      pred.iloc[i][j] = prediction[i][j]\n",
        "\n",
        "  return pred"
      ],
      "execution_count": null,
      "outputs": []
    },
    {
      "cell_type": "code",
      "metadata": {
        "id": "IChxp2Pc0m6_",
        "colab_type": "code",
        "colab": {}
      },
      "source": [
        "for state in data[\"State\"].unique().tolist():\n",
        "  pred = prediction(data, state, population, \"2020/08/15\")\n",
        "  pred.to_csv(\"drive/My Drive/Predictions/{}.csv\".format(state))"
      ],
      "execution_count": null,
      "outputs": []
    },
    {
      "cell_type": "code",
      "metadata": {
        "id": "pTD8_XAGIQxl",
        "colab_type": "code",
        "colab": {}
      },
      "source": [
        "# print(\"The Number of Confirmed Cases will be in the Following Range :  {} -  {}\".format(round(pred['Confirmed'].values - 1.96 * pred['Confirmed'].std()),round(pred['Confirmed'].values + 1.96 * pred['Confirmed'].std())))\n",
        "# print(\"The Number of Deaths will be in the Following Range :  {} -  {}\".format(round(pred['Deaths'].values - 1.96 * pred['Deaths'].std()),round(pred['Deaths'].values + 1.96 * pred['Deaths'].std())))\n",
        "# print(\"The Number of Recovered Cases will be in the Following Range :  {} -  {}\".format(round(pred['Recovered'].values - 1.96 * pred['Recovered'].std()),round(pred['Recovered'].values + 1.96 * pred['Recovered'].std())))\n",
        "# print(\"The Number of Active Cases will be in the Following Range :  {} -  {}\".format(round(pred['Active'].values - 1.96 * pred['Active'].std()),round(pred['Active'].values + 1.96 * pred['Active'].std())))\n",
        "# print(\"The Number of People Tested will be in the Following Range :  {} -  {}\".format(round(pred['People_Tested'].values - 1.96 * pred['People_Tested'].std()),round(pred['People_Tested'].values + 1.96 * pred['People_Tested'].std())))\n",
        "# print(\"The Number of People that have not yet been affected will be in the Following Range :  {} -  {}\".format(round(pred['Suscpetible'].values - 1.96 * pred['Suscpetible'].std()),round(pred['Suscpetible'].values + 1.96 * pred['Suscpetible'].std())))\n"
      ],
      "execution_count": null,
      "outputs": []
    }
  ]
}